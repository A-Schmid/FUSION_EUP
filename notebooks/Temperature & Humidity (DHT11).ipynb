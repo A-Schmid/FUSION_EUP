{
 "cells": [
  {
   "cell_type": "code",
   "execution_count": null,
   "metadata": {},
   "outputs": [],
   "source": [
    "import time\n",
    "import sys\n",
    "sys.path.append(\"..\")\n",
    "from FUSION import DHT11"
   ]
  },
  {
   "cell_type": "code",
   "execution_count": null,
   "metadata": {},
   "outputs": [],
   "source": [
    "dht = DHT11(node_name = \"dht\", node_location=\"1104\")\n",
    "\n",
    "def on_temperature(data):\n",
    "    print(\"{} Grad\".format(data))\n",
    "\n",
    "def on_humidity(data):\n",
    "    print(\"{} Prozent\".format(data))\n",
    "\n",
    "dht.OnUpdate(on_temperature, \"temperature\")\n",
    "dht.OnUpdate(on_humidity, \"humidity\")\n",
    "\n",
    "time.sleep(60)"
   ]
  },
  {
   "cell_type": "code",
   "execution_count": null,
   "metadata": {},
   "outputs": [],
   "source": []
  }
 ],
 "metadata": {
  "kernelspec": {
   "display_name": "Python 3",
   "language": "python",
   "name": "python3"
  },
  "language_info": {
   "codemirror_mode": {
    "name": "ipython",
    "version": 3
   },
   "file_extension": ".py",
   "mimetype": "text/x-python",
   "name": "python",
   "nbconvert_exporter": "python",
   "pygments_lexer": "ipython3",
   "version": "3.7.2+"
  }
 },
 "nbformat": 4,
 "nbformat_minor": 2
}
