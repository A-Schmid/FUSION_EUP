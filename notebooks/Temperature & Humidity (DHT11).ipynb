{
 "cells": [
  {
   "cell_type": "code",
   "execution_count": 2,
   "metadata": {},
   "outputs": [],
   "source": [
    "import time\n",
    "import sys\n",
    "sys.path.append(\"..\")\n",
    "from FUSION import email"
   ]
  },
  {
   "cell_type": "code",
   "execution_count": 1,
   "metadata": {},
   "outputs": [
    {
     "ename": "NameError",
     "evalue": "name 'DHT11' is not defined",
     "output_type": "error",
     "traceback": [
      "\u001b[0;31m---------------------------------------------------------------------------\u001b[0m",
      "\u001b[0;31mNameError\u001b[0m                                 Traceback (most recent call last)",
      "\u001b[0;32m<ipython-input-1-f359bccd5b5f>\u001b[0m in \u001b[0;36m<module>\u001b[0;34m()\u001b[0m\n\u001b[1;32m      1\u001b[0m \u001b[0;31m# Initialisierung des DHT11 Feuchtigkeits- und Temperatursensors\u001b[0m\u001b[0;34m\u001b[0m\u001b[0;34m\u001b[0m\u001b[0m\n\u001b[0;32m----> 2\u001b[0;31m \u001b[0mdht\u001b[0m \u001b[0;34m=\u001b[0m \u001b[0mDHT11\u001b[0m\u001b[0;34m(\u001b[0m\u001b[0mnode_name\u001b[0m \u001b[0;34m=\u001b[0m \u001b[0;34m\"dht\"\u001b[0m\u001b[0;34m,\u001b[0m \u001b[0mnode_location\u001b[0m\u001b[0;34m=\u001b[0m\u001b[0;34m\"1104\"\u001b[0m\u001b[0;34m)\u001b[0m\u001b[0;34m\u001b[0m\u001b[0m\n\u001b[0m\u001b[1;32m      3\u001b[0m \u001b[0;34m\u001b[0m\u001b[0m\n\u001b[1;32m      4\u001b[0m \u001b[0;31m# Callbackfunktion, die bei neu gemessenen Temperaturen aufgerufen wird\u001b[0m\u001b[0;34m\u001b[0m\u001b[0;34m\u001b[0m\u001b[0m\n\u001b[1;32m      5\u001b[0m \u001b[0;32mdef\u001b[0m \u001b[0mon_temperature\u001b[0m\u001b[0;34m(\u001b[0m\u001b[0mdata\u001b[0m\u001b[0;34m)\u001b[0m\u001b[0;34m:\u001b[0m\u001b[0;34m\u001b[0m\u001b[0m\n",
      "\u001b[0;31mNameError\u001b[0m: name 'DHT11' is not defined"
     ]
    }
   ],
   "source": [
    "# Initialisierung des DHT11 Feuchtigkeits- und Temperatursensors\n",
    "dht = DHT11(node_name = \"dht\", node_location=\"1104\")\n",
    "\n",
    "# Callbackfunktion, die bei neu gemessenen Temperaturen aufgerufen wird\n",
    "def on_temperature(data):\n",
    "    print(data, \"Grad\")\n",
    "\n",
    "# Callbackfunktion, die bei neu gemessenen Feuchtigkeitswerten aufgerufen wird\n",
    "def on_humidity(data):\n",
    "    print(data, \"Prozent\")\n",
    "\n",
    "# Registrieren der oben definierten Callbackfunktionen\n",
    "dht.OnUpdate(on_temperature, \"temperature\")\n",
    "dht.OnUpdate(on_humidity, \"humidity\")\n",
    "\n",
    "time.sleep(60)"
   ]
  },
  {
   "cell_type": "code",
   "execution_count": null,
   "metadata": {},
   "outputs": [],
   "source": []
  }
 ],
 "metadata": {
  "kernelspec": {
   "display_name": "Python 3",
   "language": "python",
   "name": "python3"
  },
  "language_info": {
   "codemirror_mode": {
    "name": "ipython",
    "version": 3
   },
   "file_extension": ".py",
   "mimetype": "text/x-python",
   "name": "python",
   "nbconvert_exporter": "python",
   "pygments_lexer": "ipython3",
   "version": "3.5.3"
  }
 },
 "nbformat": 4,
 "nbformat_minor": 2
}
