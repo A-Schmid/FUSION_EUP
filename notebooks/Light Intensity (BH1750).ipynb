{
 "cells": [
  {
   "cell_type": "code",
   "execution_count": 1,
   "metadata": {},
   "outputs": [],
   "source": [
    "import time\n",
    "import sys\n",
    "sys.path.append(\"..\")\n",
    "from FUSION import BH1750"
   ]
  },
  {
   "cell_type": "code",
   "execution_count": null,
   "metadata": {},
   "outputs": [],
   "source": [
    "# Initialisierung des BH1750-Lichtintensitätssensors\n",
    "bh1750 = BH1750(node_name = \"light_sensor\", node_location=\"1104\")\n",
    "\n",
    "# Callbackfunktion, die bei jeder Messung aufgerufen werden soll\n",
    "def on_light(data):\n",
    "    # Ausgabe der gemessenen Lichtintensität\n",
    "    print(data, \"Einheiten Lichtintesität\")\n",
    "\n",
    "# Registrieren der oben definierten Callbackfunktion\n",
    "bh1750.OnUpdate(on_light, \"light_intensity\")\n",
    "\n",
    "time.sleep(60)"
   ]
  },
  {
   "cell_type": "code",
   "execution_count": null,
   "metadata": {},
   "outputs": [],
   "source": []
  }
 ],
 "metadata": {
  "kernelspec": {
   "display_name": "Python 3",
   "language": "python",
   "name": "python3"
  },
  "language_info": {
   "codemirror_mode": {
    "name": "ipython",
    "version": 3
   },
   "file_extension": ".py",
   "mimetype": "text/x-python",
   "name": "python",
   "nbconvert_exporter": "python",
   "pygments_lexer": "ipython3",
   "version": "3.5.3"
  }
 },
 "nbformat": 4,
 "nbformat_minor": 2
}
