{
 "cells": [
  {
   "cell_type": "code",
   "execution_count": 1,
   "metadata": {},
   "outputs": [],
   "source": [
    "import time\n",
    "import sys\n",
    "sys.path.append(\"../..\")\n",
    "from FUSION import *"
   ]
  },
  {
   "cell_type": "code",
   "execution_count": 2,
   "metadata": {},
   "outputs": [
    {
     "name": "stdout",
     "output_type": "stream",
     "text": [
      "41 Prozent\n",
      "41 Prozent\n",
      "41 Prozent\n",
      "41 Prozent\n",
      "40 Prozent\n",
      "40 Prozent\n",
      "40 Prozent\n",
      "40 Prozent\n",
      "40 Prozent\n",
      "40 Prozent\n",
      "39 Prozent\n",
      "39 Prozent\n",
      "40 Prozent\n",
      "40 Prozent\n",
      "39 Prozent\n",
      "39 Prozent\n",
      "39 Prozent\n",
      "39 Prozent\n",
      "39 Prozent\n",
      "39 Prozent\n",
      "39 Prozent\n",
      "39 Prozent\n",
      "95 Prozent\n",
      "95 Prozent\n",
      "95 Prozent\n",
      "95 Prozent\n",
      "95 Prozent\n",
      "95 Prozent\n",
      "95 Prozent\n",
      "95 Prozent\n",
      "95 Prozent\n",
      "95 Prozent\n"
     ]
    },
    {
     "ename": "KeyboardInterrupt",
     "evalue": "",
     "output_type": "error",
     "traceback": [
      "\u001b[0;31m---------------------------------------------------------------------------\u001b[0m",
      "\u001b[0;31mKeyboardInterrupt\u001b[0m                         Traceback (most recent call last)",
      "\u001b[0;32m<ipython-input-2-cb6683fdeda4>\u001b[0m in \u001b[0;36m<module>\u001b[0;34m()\u001b[0m\n\u001b[1;32m      7\u001b[0m \u001b[0mdht\u001b[0m\u001b[0;34m.\u001b[0m\u001b[0mOnUpdate\u001b[0m\u001b[0;34m(\u001b[0m\u001b[0mon_humidity\u001b[0m\u001b[0;34m,\u001b[0m \u001b[0;34m\"humidity\"\u001b[0m\u001b[0;34m)\u001b[0m\u001b[0;34m\u001b[0m\u001b[0m\n\u001b[1;32m      8\u001b[0m \u001b[0;34m\u001b[0m\u001b[0m\n\u001b[0;32m----> 9\u001b[0;31m \u001b[0mtime\u001b[0m\u001b[0;34m.\u001b[0m\u001b[0msleep\u001b[0m\u001b[0;34m(\u001b[0m\u001b[0;36m60\u001b[0m\u001b[0;34m)\u001b[0m\u001b[0;34m\u001b[0m\u001b[0m\n\u001b[0m",
      "\u001b[0;31mKeyboardInterrupt\u001b[0m: "
     ]
    },
    {
     "name": "stdout",
     "output_type": "stream",
     "text": [
      "95 Prozent\n",
      "95 Prozent\n"
     ]
    }
   ],
   "source": [
    "# your code goes here\n",
    "dht = DHT11(node_name = \"dht\", node_location=\"1104\")\n",
    "\n",
    "def on_humidity(data):\n",
    "    print(\"{} Prozent\".format(data))\n",
    "\n",
    "dht.OnUpdate(on_humidity, \"humidity\")\n",
    "\n",
    "time.sleep(60)"
   ]
  },
  {
   "cell_type": "code",
   "execution_count": null,
   "metadata": {},
   "outputs": [],
   "source": []
  }
 ],
 "metadata": {
  "kernelspec": {
   "display_name": "Python 3",
   "language": "python",
   "name": "python3"
  },
  "language_info": {
   "codemirror_mode": {
    "name": "ipython",
    "version": 3
   },
   "file_extension": ".py",
   "mimetype": "text/x-python",
   "name": "python",
   "nbconvert_exporter": "python",
   "pygments_lexer": "ipython3",
   "version": "3.5.3"
  }
 },
 "nbformat": 4,
 "nbformat_minor": 2
}
