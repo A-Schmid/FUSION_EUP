{
 "cells": [
  {
   "cell_type": "code",
   "execution_count": 5,
   "metadata": {},
   "outputs": [
    {
     "name": "stdout",
     "output_type": "stream",
     "text": [
      "2018-08-22 14:36:15.703792\n",
      "2018-08-22 14:39:32.605363\n",
      "2018-08-22 14:39:46.294622\n",
      "2018-08-22 14:40:19.203798\n",
      "2018-08-22 14:40:19.612181\n",
      "2018-08-22 14:40:20.019598\n",
      "2018-08-22 14:40:20.328267\n",
      "2018-08-22 14:40:22.750708\n",
      "2018-08-22 14:41:00.506435\n",
      "2018-08-22 15:09:57.945135\n",
      "2018-08-22 15:10:06.003541\n",
      "2018-08-22 15:10:06.207612\n",
      "2018-08-22 15:10:06.413723\n",
      "2018-08-22 15:10:06.620032\n",
      "2018-08-22 15:10:06.725617\n",
      "2018-08-22 15:10:06.929565\n",
      "2018-08-22 15:25:23.865637\n",
      "2018-08-22 15:25:24.172643\n",
      "2018-08-22 15:25:24.480980\n",
      "2018-08-22 15:25:24.789262\n",
      "2018-08-22 15:25:25.092677\n",
      "2018-08-22 15:25:25.295367\n",
      "2018-08-22 15:25:25.497933\n",
      "2018-08-22 15:25:25.801546\n",
      "2018-08-22 15:25:26.004296\n",
      "2018-08-22 15:25:26.307429\n",
      "2018-08-22 15:25:26.510187\n",
      "2018-08-22 15:25:26.712971\n",
      "2018-08-22 15:25:26.915639\n",
      "2018-08-22 15:25:27.420247\n"
     ]
    }
   ],
   "source": [
    "from FUSION import *\n",
    "from datetime import datetime as dt\n",
    "\n",
    "def OnButtonPressed():\n",
    "    print(dt.now())\n",
    "    log_append_line(filename=\"log.txt\", message=dt.now())\n",
    "\n",
    "btn = button(35)\n",
    "\n",
    "btn.OnPress(OnButtonPressed)\n"
   ]
  },
  {
   "cell_type": "code",
   "execution_count": null,
   "metadata": {},
   "outputs": [],
   "source": []
  }
 ],
 "metadata": {
  "kernelspec": {
   "display_name": "Python 3",
   "language": "python",
   "name": "python3"
  },
  "language_info": {
   "codemirror_mode": {
    "name": "ipython",
    "version": 3
   },
   "file_extension": ".py",
   "mimetype": "text/x-python",
   "name": "python",
   "nbconvert_exporter": "python",
   "pygments_lexer": "ipython3",
   "version": "3.5.3"
  }
 },
 "nbformat": 4,
 "nbformat_minor": 2
}
